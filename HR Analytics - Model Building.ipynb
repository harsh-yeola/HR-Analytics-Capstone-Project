{
 "cells": [
  {
   "cell_type": "markdown",
   "metadata": {},
   "source": [
    "##### Required libraries"
   ]
  },
  {
   "cell_type": "code",
   "execution_count": 13,
   "metadata": {},
   "outputs": [],
   "source": [
    "import pandas as pd\n",
    "import matplotlib.pyplot as plt\n",
    "\n",
    "from imblearn.over_sampling import SMOTE\n",
    "\n",
    "from sklearn.linear_model import LogisticRegression\n",
    "from sklearn.metrics import confusion_matrix,classification_report,roc_auc_score,roc_curve\n",
    "from sklearn.ensemble import RandomForestClassifier"
   ]
  },
  {
   "cell_type": "markdown",
   "metadata": {},
   "source": [
    "##### Importing data"
   ]
  },
  {
   "cell_type": "code",
   "execution_count": 17,
   "metadata": {},
   "outputs": [],
   "source": [
    "data_for_model=pd.read_csv('E:/DataSkills 2021/Imarticus DSP/Capstone Project/HR Analytics/hr_16_17_for_model.csv')\n",
    "data_for_testing=pd.read_csv('E:/DataSkills 2021/Imarticus DSP/Capstone Project/HR Analytics/hr_17_18_for_model_testing.csv')"
   ]
  },
  {
   "cell_type": "code",
   "execution_count": 18,
   "metadata": {},
   "outputs": [
    {
     "name": "stdout",
     "output_type": "stream",
     "text": [
      "   Employee Position         0         1         2         3         4  \\\n",
      "0                  2  0.598599 -0.678322  0.213095  1.103943  4.151661   \n",
      "1                  2  0.737623 -0.804680 -0.153812  0.509581  2.296818   \n",
      "2                  2  0.766296 -0.099903 -0.227193  0.375850  1.600320   \n",
      "3                  2  0.683751 -1.248109  0.164174 -0.114499  4.859332   \n",
      "4                  1 -0.438864 -1.442746 -0.471798 -0.887169  4.028750   \n",
      "\n",
      "          5         6         7  Current Status  \n",
      "0 -0.903766 -0.948556  5.202559               0  \n",
      "1  0.881904 -1.107437  5.701115               0  \n",
      "2  0.395981 -0.464127  5.076898               0  \n",
      "3 -0.379653 -1.513537  5.202559               0  \n",
      "4  1.103138 -1.579085  6.043362               0  \n",
      "   Employee Position         0         1         2         3         4  \\\n",
      "0                  1  0.762908 -1.011578  0.015799 -0.039001  5.330795   \n",
      "1                  2  0.768915 -0.585556  0.137515 -0.849394  2.093404   \n",
      "2                  2  0.514900  0.115672  0.928665 -0.228668  1.559682   \n",
      "3                  2  0.378452 -1.283673  0.064485 -0.866636  5.056143   \n",
      "4                  2  0.672801 -1.042675  0.453975 -0.711455  4.573066   \n",
      "\n",
      "          5         6         7  Current Status  \n",
      "0 -0.807247 -1.501321  5.698573               0  \n",
      "1  0.663173 -1.056417  6.206535               0  \n",
      "2  0.055687 -0.157466  5.570541               0  \n",
      "3 -0.791997 -1.726057  5.666305               1  \n",
      "4  0.341637 -1.513721  5.034475               0  \n"
     ]
    }
   ],
   "source": [
    "print(data_for_model.head())\n",
    "print(data_for_testing.head())"
   ]
  },
  {
   "cell_type": "markdown",
   "metadata": {},
   "source": [
    "### Model Building"
   ]
  },
  {
   "cell_type": "markdown",
   "metadata": {},
   "source": [
    "##### SMOTE  - Synthetic Minority Oversampling Technique"
   ]
  },
  {
   "cell_type": "markdown",
   "metadata": {},
   "source": [
    "##### train data"
   ]
  },
  {
   "cell_type": "code",
   "execution_count": 19,
   "metadata": {},
   "outputs": [
    {
     "data": {
      "text/plain": [
       "1    0.5\n",
       "0    0.5\n",
       "Name: Current Status, dtype: float64"
      ]
     },
     "execution_count": 19,
     "metadata": {},
     "output_type": "execute_result"
    }
   ],
   "source": [
    "sm = SMOTE(random_state=19)\n",
    "X_train, y_train = sm.fit_resample(data_for_model.drop('Current Status',axis=1),data_for_model['Current Status'])\n",
    "\n",
    "y_train.value_counts(normalize=True)"
   ]
  },
  {
   "cell_type": "markdown",
   "metadata": {},
   "source": [
    "##### test data"
   ]
  },
  {
   "cell_type": "code",
   "execution_count": 20,
   "metadata": {},
   "outputs": [],
   "source": [
    "X_test = data_for_testing.drop('Current Status',axis=1)\n",
    "\n",
    "y_test = data_for_testing['Current Status']"
   ]
  },
  {
   "cell_type": "markdown",
   "metadata": {},
   "source": [
    "##### Logistic Regression"
   ]
  },
  {
   "cell_type": "code",
   "execution_count": 21,
   "metadata": {},
   "outputs": [
    {
     "name": "stdout",
     "output_type": "stream",
     "text": [
      "[[654 174]\n",
      " [ 33 112]]\n",
      "              precision    recall  f1-score   support\n",
      "\n",
      "           0       0.95      0.79      0.86       828\n",
      "           1       0.39      0.77      0.52       145\n",
      "\n",
      "    accuracy                           0.79       973\n",
      "   macro avg       0.67      0.78      0.69       973\n",
      "weighted avg       0.87      0.79      0.81       973\n",
      "\n"
     ]
    }
   ],
   "source": [
    "clf = LogisticRegression(random_state=0).fit(X_train, y_train)\n",
    "\n",
    "hr_predict=clf.predict(X_test)\n",
    "hr_predict_df=pd.DataFrame({'Test Data':y_test,'Prediction':hr_predict}) \n",
    "# hr_predict_df.rename(columns={'index':'Employee No'},inplace=True)\n",
    "\n",
    "cm=confusion_matrix(y_test, hr_predict)\n",
    "print(cm)\n",
    "\n",
    "#print({'tn':cm[0,0],'fp':cm[0,1],'fn':cm[1,0],'tp':cm[1,1]})\n",
    "\n",
    "''' {'tn': 483, 'fp': 4, 'fn': 3, 'tp': 92} '''\n",
    "\n",
    "#hr_predict_df.loc[~(hr_predict_df['Test Data']==hr_predict_df['Prediction'])]\n",
    "\n",
    "print(classification_report(y_test,hr_predict))"
   ]
  },
  {
   "cell_type": "code",
   "execution_count": 11,
   "metadata": {},
   "outputs": [
    {
     "data": {
      "text/html": [
       "<div>\n",
       "<style scoped>\n",
       "    .dataframe tbody tr th:only-of-type {\n",
       "        vertical-align: middle;\n",
       "    }\n",
       "\n",
       "    .dataframe tbody tr th {\n",
       "        vertical-align: top;\n",
       "    }\n",
       "\n",
       "    .dataframe thead th {\n",
       "        text-align: right;\n",
       "    }\n",
       "</style>\n",
       "<table border=\"1\" class=\"dataframe\">\n",
       "  <thead>\n",
       "    <tr style=\"text-align: right;\">\n",
       "      <th></th>\n",
       "      <th>Test Data</th>\n",
       "      <th>Prediction</th>\n",
       "    </tr>\n",
       "  </thead>\n",
       "  <tbody>\n",
       "    <tr>\n",
       "      <th>0</th>\n",
       "      <td>0</td>\n",
       "      <td>0</td>\n",
       "    </tr>\n",
       "    <tr>\n",
       "      <th>1</th>\n",
       "      <td>0</td>\n",
       "      <td>1</td>\n",
       "    </tr>\n",
       "    <tr>\n",
       "      <th>2</th>\n",
       "      <td>0</td>\n",
       "      <td>0</td>\n",
       "    </tr>\n",
       "    <tr>\n",
       "      <th>3</th>\n",
       "      <td>1</td>\n",
       "      <td>1</td>\n",
       "    </tr>\n",
       "    <tr>\n",
       "      <th>4</th>\n",
       "      <td>0</td>\n",
       "      <td>0</td>\n",
       "    </tr>\n",
       "  </tbody>\n",
       "</table>\n",
       "</div>"
      ],
      "text/plain": [
       "   Test Data  Prediction\n",
       "0          0           0\n",
       "1          0           1\n",
       "2          0           0\n",
       "3          1           1\n",
       "4          0           0"
      ]
     },
     "execution_count": 11,
     "metadata": {},
     "output_type": "execute_result"
    }
   ],
   "source": [
    "hr_predict_df.head()"
   ]
  },
  {
   "cell_type": "code",
   "execution_count": 22,
   "metadata": {},
   "outputs": [
    {
     "name": "stdout",
     "output_type": "stream",
     "text": [
      "Logistic Regression ROC AUC = 0.848\n"
     ]
    },
    {
     "data": {
      "text/plain": [
       "Text(0, 0.5, 'True Positive Rate')"
      ]
     },
     "execution_count": 22,
     "metadata": {},
     "output_type": "execute_result"
    },
    {
     "data": {
      "image/png": "[encoded data removed]",
      "text/plain": [
       "<Figure size 432x288 with 1 Axes>"
      ]
     },
     "metadata": {
      "needs_background": "light"
     },
     "output_type": "display_data"
    }
   ],
   "source": [
    "# ROC-AUC curve analysis\n",
    "clf_probs = clf.predict_proba(X_test)[:,1]\n",
    "\n",
    "#hr_predict_df['Test'].replace({'Active':0,'Resigned':1},inplace=True)\n",
    "#hr_predict_df['Prediction'].replace({'Active':0,'Resigned':1},inplace=True)\n",
    "\n",
    "print('Logistic Regression ROC AUC = %.3f' % roc_auc_score(hr_predict_df['Test Data'], clf_probs))\n",
    "\n",
    "fpr, tpr, thresholds = roc_curve(hr_predict_df['Test Data'], clf_probs)\n",
    "\n",
    "plt.plot(fpr,tpr,marker='.',label='Logistic Regression')\n",
    "plt.xlabel('False Positive Rate')\n",
    "plt.ylabel('True Positive Rate')"
   ]
  },
  {
   "attachments": {},
   "cell_type": "markdown",
   "metadata": {},
   "source": [
    "##### K-Nearest Neighbor (KNN)"
   ]
  },
  {
   "cell_type": "code",
   "execution_count": 26,
   "metadata": {},
   "outputs": [
    {
     "data": {
      "text/plain": [
       "Text(0, 0.5, 'Mean Error')"
      ]
     },
     "execution_count": 26,
     "metadata": {},
     "output_type": "execute_result"
    },
    {
     "data": {
      "image/png": "[encoded data removed]",
      "text/plain": [
       "<Figure size 576x432 with 1 Axes>"
      ]
     },
     "metadata": {
      "needs_background": "light"
     },
     "output_type": "display_data"
    }
   ],
   "source": [
    "from sklearn.neighbors import KNeighborsClassifier\n",
    "import numpy as np\n",
    "# elbow methos\n",
    "error=[]\n",
    "for i in range(1,40):\n",
    "    knn=KNeighborsClassifier(n_neighbors=i)\n",
    "    knn.fit(X_train,y_train)\n",
    "    pred_i=knn.predict(X_test)\n",
    "    error.append(np.mean(pred_i != y_test))\n",
    "\n",
    "plt.figure(figsize=(8,6))\n",
    "plt.plot(range(1,40),error,color='red',linestyle='dashed',marker='o',\n",
    "         markerfacecolor='blue',markersize=10)\n",
    "plt.title('Error Rate K value')\n",
    "plt.xlabel('K Value')\n",
    "plt.ylabel('Mean Error')"
   ]
  },
  {
   "cell_type": "markdown",
   "metadata": {},
   "source": [
    "##### KNN is not the correct algorithm for this problem"
   ]
  },
  {
   "cell_type": "markdown",
   "metadata": {},
   "source": [
    "##### Random Forest"
   ]
  },
  {
   "cell_type": "code",
   "execution_count": 27,
   "metadata": {},
   "outputs": [
    {
     "name": "stdout",
     "output_type": "stream",
     "text": [
      "[[763  65]\n",
      " [ 30 115]]\n",
      "              precision    recall  f1-score   support\n",
      "\n",
      "           0       0.96      0.92      0.94       828\n",
      "           1       0.64      0.79      0.71       145\n",
      "\n",
      "    accuracy                           0.90       973\n",
      "   macro avg       0.80      0.86      0.82       973\n",
      "weighted avg       0.91      0.90      0.91       973\n",
      "\n"
     ]
    }
   ],
   "source": [
    "clf_rf = RandomForestClassifier(max_depth=12,random_state=0)\n",
    "clf_rf.fit(X_train,y_train)\n",
    "\n",
    "hr_predict_rf = clf_rf.predict(X_test)\n",
    "hr_predict_rf_df=pd.DataFrame({'Test Data':y_test,'Prediction':hr_predict_rf}) #.reset_index()\n",
    "# hr_predict_rf_df.rename(columns={'index':'Employee No'},inplace=True)\n",
    "\n",
    "cm_rf=confusion_matrix(y_test, hr_predict_rf)\n",
    "print(cm_rf)\n",
    "\n",
    "#print({'tn':cm_rf[0,0],'fp':cm_rf[0,1],'fn':cm_rf[1,0],'tp':cm_rf[1,1]})\n",
    "\n",
    "#hr_predict_rf_df.loc[~(hr_predict_rf_df['Test Data']==hr_predict_rf_df['Prediction'])]\n",
    "\n",
    "print(classification_report(y_test,hr_predict_rf))"
   ]
  },
  {
   "attachments": {},
   "cell_type": "markdown",
   "metadata": {},
   "source": [
    "#### Random Forest Classifier is performing better than the Logistic Regression\n",
    "We will do GridsearchCV done to find the best hyper-parametric values. We will check if inputting the optimum parameter values in the Random Forest model would improve  the accuracy along with the other indicators of the model."
   ]
  },
  {
   "cell_type": "code",
   "execution_count": 39,
   "metadata": {},
   "outputs": [
    {
     "name": "stdout",
     "output_type": "stream",
     "text": [
      "Fitting 3 folds for each of 10 candidates, totalling 30 fits\n"
     ]
    }
   ],
   "source": [
    "from sklearn.model_selection import GridSearchCV\n",
    "\n",
    "param_grid = {'max_depth' : [8,10,12,15,20],\n",
    "             'n_estimators': [200, 500]}\n",
    "\n",
    "gridF = GridSearchCV(estimator=clf_rf, param_grid=param_grid, cv = 3, verbose = 1)\n",
    "bestF = gridF.fit(X_train, y_train)"
   ]
  },
  {
   "cell_type": "code",
   "execution_count": 40,
   "metadata": {},
   "outputs": [
    {
     "data": {
      "text/plain": [
       "{'max_depth': 12, 'n_estimators': 200}"
      ]
     },
     "execution_count": 40,
     "metadata": {},
     "output_type": "execute_result"
    }
   ],
   "source": [
    "gridF.best_params_"
   ]
  },
  {
   "cell_type": "code",
   "execution_count": 42,
   "metadata": {},
   "outputs": [
    {
     "name": "stdout",
     "output_type": "stream",
     "text": [
      "[[766  62]\n",
      " [ 28 117]]\n",
      "              precision    recall  f1-score   support\n",
      "\n",
      "           0       0.96      0.93      0.94       828\n",
      "           1       0.65      0.81      0.72       145\n",
      "\n",
      "    accuracy                           0.91       973\n",
      "   macro avg       0.81      0.87      0.83       973\n",
      "weighted avg       0.92      0.91      0.91       973\n",
      "\n"
     ]
    }
   ],
   "source": [
    "clf_rf = RandomForestClassifier(max_depth=12,n_estimators= 200,random_state=0)\n",
    "clf_rf.fit(X_train,y_train)\n",
    "\n",
    "hr_predict_rf = clf_rf.predict(X_test)\n",
    "hr_predict_rf_df=pd.DataFrame({'Test Data':y_test,'Prediction':hr_predict_rf}) #.reset_index()\n",
    "# hr_predict_rf_df.rename(columns={'index':'Employee No'},inplace=True)\n",
    "\n",
    "cm_rf=confusion_matrix(y_test, hr_predict_rf)\n",
    "print(cm_rf)\n",
    "\n",
    "#print({'tn':cm_rf[0,0],'fp':cm_rf[0,1],'fn':cm_rf[1,0],'tp':cm_rf[1,1]})\n",
    "\n",
    "#hr_predict_rf_df.loc[~(hr_predict_rf_df['Test Data']==hr_predict_rf_df['Prediction'])]\n",
    "\n",
    "print(classification_report(y_test,hr_predict_rf))"
   ]
  },
  {
   "cell_type": "code",
   "execution_count": 46,
   "metadata": {},
   "outputs": [
    {
     "name": "stdout",
     "output_type": "stream",
     "text": [
      "Random Forests ROC AUC = 0.915\n"
     ]
    },
    {
     "data": {
      "text/plain": [
       "Text(0, 0.5, 'True Positive Rate')"
      ]
     },
     "execution_count": 46,
     "metadata": {},
     "output_type": "execute_result"
    },
    {
     "data": {
      "image/png": "[encoded data removed]",
      "text/plain": [
       "<Figure size 432x288 with 1 Axes>"
      ]
     },
     "metadata": {
      "needs_background": "light"
     },
     "output_type": "display_data"
    }
   ],
   "source": [
    "# ROC-AUC curve analysis\n",
    "clf_rf_probs = clf_rf.predict_proba(X_test)[:,1]\n",
    "\n",
    "#hr_predict_df['Test'].replace({'Active':0,'Resigned':1},inplace=True)\n",
    "#hr_predict_df['Prediction'].replace({'Active':0,'Resigned':1},inplace=True)\n",
    "\n",
    "print('Random Forests ROC AUC = %.3f' % roc_auc_score(hr_predict_rf_df['Test Data'], clf_rf_probs))\n",
    "\n",
    "fpr, tpr, thresholds = roc_curve(hr_predict_rf_df['Test Data'], clf_rf_probs)\n",
    "\n",
    "plt.plot(fpr,tpr,marker='.',label='Random Forests')\n",
    "plt.xlabel('False Positive Rate')\n",
    "plt.ylabel('True Positive Rate')"
   ]
  }
 ],
 "metadata": {
  "kernelspec": {
   "display_name": "Python 3",
   "language": "python",
   "name": "python3"
  },
  "language_info": {
   "codemirror_mode": {
    "name": "ipython",
    "version": 3
   },
   "file_extension": ".py",
   "mimetype": "text/x-python",
   "name": "python",
   "nbconvert_exporter": "python",
   "pygments_lexer": "ipython3",
   "version": "3.8.5"
  }
 },
 "nbformat": 4,
 "nbformat_minor": 4
}
