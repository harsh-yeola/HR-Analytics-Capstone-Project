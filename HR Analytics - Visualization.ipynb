{
 "cells": [
  {
   "cell_type": "code",
   "execution_count": 1,
   "metadata": {},
   "outputs": [],
   "source": [
    "import pandas as pd\n",
    "import numpy as np"
   ]
  },
  {
   "cell_type": "code",
   "execution_count": 2,
   "metadata": {},
   "outputs": [
    {
     "name": "stdout",
     "output_type": "stream",
     "text": [
      "   Employee No   Employee Name  YEAR of Birth Gender     Leaving Reason  \\\n",
      "0            4     Barbee Joey           1975      M      Career Growth   \n",
      "1            8  Kakalina Lorry           1980      F      Career Growth   \n",
      "2           11      Aili Nessy           1982      M      Career Growth   \n",
      "3           15    Peria Maryjo           1979      M      Career Growth   \n",
      "4           19    Cordey Sofia           1982      F  Employee Transfer   \n",
      "\n",
      "  Previous Employer Last Update Date  Latest  Available Rating Emp Ref.  \n",
      "0             kadoo       2018-02-27                       NaN      NaN  \n",
      "1            cynoid       2017-02-17                       3.0      NaN  \n",
      "2               NaN       2017-01-12                       2.0      NaN  \n",
      "3            flimbo       2016-09-15                       3.0      NaN  \n",
      "4               NaN       2018-04-26                       NaN      NaN  \n",
      "(293, 9)\n"
     ]
    }
   ],
   "source": [
    "hr_termination1 = pd.read_excel('E:/DataSkills 2021/Imarticus DSP/Capstone Project/HR Analytics/Terminations 15-18.xlsx')\n",
    "hr_termination1.rename(columns={'Employee Number':'Employee No'},inplace=True)\n",
    "print(hr_termination1.head())\n",
    "print(hr_termination1.shape)"
   ]
  },
  {
   "cell_type": "code",
   "execution_count": 3,
   "metadata": {},
   "outputs": [
    {
     "name": "stdout",
     "output_type": "stream",
     "text": [
      "   Employee No Profit Center      Employee Name Employee Position  \\\n",
      "0            1        PC - 1   Rochette Jilleen           Level 2   \n",
      "1            2        PC - 2     Daryl Natalina           Level 2   \n",
      "2            3        PC - 2  Annnora Gabrielle           Level 2   \n",
      "3            4        PC - 3        Barbee Joey           Level 2   \n",
      "4            5        PC - 4   Idalina Lauraine           Level 1   \n",
      "\n",
      "  Employee Location          People Group Employee Category   Supervisor name  \\\n",
      "0        Location 3  Client Service Staff         Level 1/2  Idalina Lauraine   \n",
      "1        Location 7  Client Service Staff         Level 1/2  Idalina Lauraine   \n",
      "2        Location 7  Client Service Staff         Level 1/2  Idalina Lauraine   \n",
      "3        Location 1  Client Service Staff         Level 1/2  Idalina Lauraine   \n",
      "4        Location 3  Client Service Staff         Level 1/2     Abagail Druci   \n",
      "\n",
      "   Join Date Current Status Termination Date  \n",
      "0 2000-09-30         Active                -  \n",
      "1 1999-05-31         Active                -  \n",
      "2 2001-01-31         Active                -  \n",
      "3 2000-09-30         Active                -  \n",
      "4 1998-06-30         Active                -  \n",
      "(789, 11)\n"
     ]
    }
   ],
   "source": [
    "hr_16_17_3 = pd.read_excel('E:/DataSkills 2021/Imarticus DSP/Capstone Project/HR Analytics/staff utlz latest 16-17_masked.xlsx',\n",
    "                          header=1,usecols=[c for c in range(11)])\n",
    "print(hr_16_17_3.head())\n",
    "print(hr_16_17_3.shape)"
   ]
  },
  {
   "cell_type": "code",
   "execution_count": 4,
   "metadata": {},
   "outputs": [
    {
     "name": "stdout",
     "output_type": "stream",
     "text": [
      "   Employee No Profit Center      Employee Name Employee Position  \\\n",
      "0            1        PC - 1   Rochette Jilleen           Level 1   \n",
      "1            2        PC - 2     Daryl Natalina           Level 2   \n",
      "2            3        PC - 2  Annnora Gabrielle           Level 2   \n",
      "3            4        PC - 3        Barbee Joey           Level 2   \n",
      "4            6        PC - 1     Jordanna Danya           Level 2   \n",
      "\n",
      "  Employee Location          People Group Employee Category   Supervisor name  \\\n",
      "0        Location 3  Client Service Staff            SVP/VP  Idalina Lauraine   \n",
      "1        Location 7  Client Service Staff            SVP/VP  Idalina Lauraine   \n",
      "2        Location 7  Client Service Staff            SVP/VP  Idalina Lauraine   \n",
      "3        Location 1  Client Service Staff          Resigned  Idalina Lauraine   \n",
      "4        Location 3  Client Service Staff            SVP/VP  Idalina Lauraine   \n",
      "\n",
      "   Join Date Current Status Termination Date  \n",
      "0 2000-09-30         Active              NaT  \n",
      "1 1999-05-31         Active              NaT  \n",
      "2 2001-01-31         Active              NaT  \n",
      "3 2000-09-30       Resigned       2018-02-28  \n",
      "4 2002-06-30         Active              NaT  \n",
      "(973, 11)\n"
     ]
    }
   ],
   "source": [
    "hr_17_18_3 = pd.read_excel('E:/DataSkills 2021/Imarticus DSP/Capstone Project/HR Analytics/staff utlz latest 17-18_masked.xlsx',\n",
    "                          header=1,usecols=[c for c in range(11)])\n",
    "print(hr_17_18_3.head())\n",
    "print(hr_17_18_3.shape)"
   ]
  },
  {
   "cell_type": "code",
   "execution_count": 5,
   "metadata": {},
   "outputs": [],
   "source": [
    "hr_termination2 = pd.merge(hr_termination1,hr_16_17_3,on='Employee No',how='inner')\n",
    "hr_termination3 = pd.merge(hr_termination1,hr_17_18_3,on='Employee No',how='inner')"
   ]
  },
  {
   "cell_type": "code",
   "execution_count": 6,
   "metadata": {},
   "outputs": [
    {
     "name": "stdout",
     "output_type": "stream",
     "text": [
      "   Employee No Employee Name_x  YEAR of Birth Gender     Leaving Reason  \\\n",
      "0            4     Barbee Joey           1975      M      Career Growth   \n",
      "1            8  Kakalina Lorry           1980      F      Career Growth   \n",
      "2           11      Aili Nessy           1982      M      Career Growth   \n",
      "3           15    Peria Maryjo           1979      M      Career Growth   \n",
      "4           19    Cordey Sofia           1982      F  Employee Transfer   \n",
      "\n",
      "  Previous Employer Last Update Date  Latest  Available Rating Emp Ref.  \\\n",
      "0             kadoo       2018-02-27                       NaN      NaN   \n",
      "1            cynoid       2017-02-17                       3.0      NaN   \n",
      "2               NaN       2017-01-12                       2.0      NaN   \n",
      "3            flimbo       2016-09-15                       3.0      NaN   \n",
      "4               NaN       2018-04-26                       NaN      NaN   \n",
      "\n",
      "  Profit Center Employee Name_y Employee Position Employee Location  \\\n",
      "0        PC - 3     Barbee Joey           Level 2        Location 1   \n",
      "1        PC - 3  Kakalina Lorry           Level 4        Location 1   \n",
      "2        PC - 3      Aili Nessy           Level 4        Location 1   \n",
      "3        PC - 3    Peria Maryjo           Level 4        Location 2   \n",
      "4        PC - 3    Cordey Sofia           Level 3        Location 1   \n",
      "\n",
      "           People Group      Employee Category   Supervisor name  Join Date  \\\n",
      "0  Client Service Staff              Level 1/2  Idalina Lauraine 2000-09-30   \n",
      "1  Client Service Staff  Serving Notice Period       Tallia Eyde 2004-07-31   \n",
      "2  Client Service Staff  Serving Notice Period     Cacilia Aimee 2004-11-30   \n",
      "3  Client Service Staff  Serving Notice Period       Barbee Joey 2005-02-28   \n",
      "4  Client Service Staff        Confirmed Staff     Cacilia Aimee 2006-05-31   \n",
      "\n",
      "  Current Status     Termination Date  \n",
      "0         Active                    -  \n",
      "1       Resigned  2017-01-31 00:00:00  \n",
      "2       Resigned  2017-01-31 00:00:00  \n",
      "3       Resigned  2016-08-31 00:00:00  \n",
      "4         Active                    -  \n",
      "(260, 19)\n"
     ]
    }
   ],
   "source": [
    "print(hr_termination2.head())\n",
    "print(hr_termination2.shape)"
   ]
  },
  {
   "cell_type": "code",
   "execution_count": 7,
   "metadata": {},
   "outputs": [
    {
     "name": "stdout",
     "output_type": "stream",
     "text": [
      "   Employee No  Employee Name_x  YEAR of Birth Gender     Leaving Reason  \\\n",
      "0            4      Barbee Joey           1975      M      Career Growth   \n",
      "1           19     Cordey Sofia           1982      F  Employee Transfer   \n",
      "2           45      Jenny Kasey           1984      F      Career Growth   \n",
      "3           50  Leta Evangeline           1984      M           Personal   \n",
      "4           66    Leela Jsandye           1987      F           Personal   \n",
      "\n",
      "  Previous Employer Last Update Date  Latest  Available Rating Emp Ref.  \\\n",
      "0             kadoo       2018-02-27                       NaN      NaN   \n",
      "1               NaN       2018-04-26                       NaN      NaN   \n",
      "2          socimbee       2017-06-22                       3.0      NaN   \n",
      "3          homolium       2017-09-27                       3.0      NaN   \n",
      "4            monous       2017-10-23                       3.0      NaN   \n",
      "\n",
      "  Profit Center  Employee Name_y Employee Position Employee Location  \\\n",
      "0        PC - 3      Barbee Joey           Level 2        Location 1   \n",
      "1        PC - 3     Cordey Sofia           Level 3        Location 1   \n",
      "2        PC - 5      Jenny Kasey           Level 7        Location 1   \n",
      "3        PC - 2  Leta Evangeline           Level 5        Location 7   \n",
      "4        PC - 3    Leela Jsandye           Level 6        Location 2   \n",
      "\n",
      "           People Group Employee Category   Supervisor name  Join Date  \\\n",
      "0  Client Service Staff          Resigned  Idalina Lauraine 2000-09-30   \n",
      "1  Client Service Staff          Resigned     Cacilia Aimee 2006-05-31   \n",
      "2  Client Service Staff          Resigned     Orsa Margeaux 2010-01-31   \n",
      "3  Client Service Staff          Resigned       Tallia Eyde 2010-05-31   \n",
      "4  Client Service Staff          Resigned     Vonni Bethena 2011-01-31   \n",
      "\n",
      "  Current Status Termination Date  \n",
      "0       Resigned       2018-02-28  \n",
      "1       Resigned       2018-04-30  \n",
      "2       Resigned       2017-06-30  \n",
      "3       Resigned       2017-09-30  \n",
      "4       Resigned       2017-10-31  \n",
      "(161, 19)\n"
     ]
    }
   ],
   "source": [
    "print(hr_termination3.head())\n",
    "print(hr_termination3.shape)"
   ]
  },
  {
   "cell_type": "code",
   "execution_count": 8,
   "metadata": {},
   "outputs": [
    {
     "name": "stdout",
     "output_type": "stream",
     "text": [
      "   Employee No   Employee Name_x  YEAR of Birth Gender Leaving Reason  \\\n",
      "1            8    Kakalina Lorry           1980      F  Career Growth   \n",
      "2           11        Aili Nessy           1982      M  Career Growth   \n",
      "3           15      Peria Maryjo           1979      M  Career Growth   \n",
      "5           36  Charlotta Marena           1979      F       Personal   \n",
      "6           42  Kimberli Shandra           1986      M  Career Growth   \n",
      "\n",
      "  Previous Employer Last Update Date  Latest  Available Rating Emp Ref.  \\\n",
      "1            cynoid       2017-02-17                       3.0      NaN   \n",
      "2               NaN       2017-01-12                       2.0      NaN   \n",
      "3            flimbo       2016-09-15                       3.0      NaN   \n",
      "5            avindu       2016-09-28                       3.0      NaN   \n",
      "6               NaN       2016-07-14                       3.0      NaN   \n",
      "\n",
      "  Profit Center   Employee Name_y Employee Position Employee Location  \\\n",
      "1        PC - 3    Kakalina Lorry           Level 4        Location 1   \n",
      "2        PC - 3        Aili Nessy           Level 4        Location 1   \n",
      "3        PC - 3      Peria Maryjo           Level 4        Location 2   \n",
      "5        PC - 6  Charlotta Marena           Level 4        Location 7   \n",
      "6        PC - 3  Kimberli Shandra           Level 6        Location 1   \n",
      "\n",
      "           People Group      Employee Category  Supervisor name  Join Date  \\\n",
      "1  Client Service Staff  Serving Notice Period      Tallia Eyde 2004-07-31   \n",
      "2  Client Service Staff  Serving Notice Period    Cacilia Aimee 2004-11-30   \n",
      "3  Client Service Staff  Serving Notice Period      Barbee Joey 2005-02-28   \n",
      "5  Client Service Staff  Serving Notice Period   Daryl Natalina 2009-01-31   \n",
      "6  Client Service Staff  Serving Notice Period  Marina Garnette 2009-07-31   \n",
      "\n",
      "  Current Status     Termination Date  \n",
      "1       Resigned  2017-01-31 00:00:00  \n",
      "2       Resigned  2017-01-31 00:00:00  \n",
      "3       Resigned  2016-08-31 00:00:00  \n",
      "5       Resigned  2016-08-31 00:00:00  \n",
      "6       Resigned  2016-07-31 00:00:00  \n",
      "(140, 19)\n"
     ]
    }
   ],
   "source": [
    "hr_termination2 = hr_termination2.loc[hr_termination2['Current Status']=='Resigned']\n",
    "print(hr_termination2.head())\n",
    "print(hr_termination2.shape)"
   ]
  },
  {
   "cell_type": "code",
   "execution_count": 9,
   "metadata": {},
   "outputs": [
    {
     "name": "stdout",
     "output_type": "stream",
     "text": [
      "   Employee No  Employee Name_x  YEAR of Birth Gender     Leaving Reason  \\\n",
      "0            4      Barbee Joey           1975      M      Career Growth   \n",
      "1           19     Cordey Sofia           1982      F  Employee Transfer   \n",
      "2           45      Jenny Kasey           1984      F      Career Growth   \n",
      "3           50  Leta Evangeline           1984      M           Personal   \n",
      "4           66    Leela Jsandye           1987      F           Personal   \n",
      "\n",
      "  Previous Employer Last Update Date  Latest  Available Rating Emp Ref.  \\\n",
      "0             kadoo       2018-02-27                       NaN      NaN   \n",
      "1               NaN       2018-04-26                       NaN      NaN   \n",
      "2          socimbee       2017-06-22                       3.0      NaN   \n",
      "3          homolium       2017-09-27                       3.0      NaN   \n",
      "4            monous       2017-10-23                       3.0      NaN   \n",
      "\n",
      "  Profit Center  Employee Name_y Employee Position Employee Location  \\\n",
      "0        PC - 3      Barbee Joey           Level 2        Location 1   \n",
      "1        PC - 3     Cordey Sofia           Level 3        Location 1   \n",
      "2        PC - 5      Jenny Kasey           Level 7        Location 1   \n",
      "3        PC - 2  Leta Evangeline           Level 5        Location 7   \n",
      "4        PC - 3    Leela Jsandye           Level 6        Location 2   \n",
      "\n",
      "           People Group Employee Category   Supervisor name  Join Date  \\\n",
      "0  Client Service Staff          Resigned  Idalina Lauraine 2000-09-30   \n",
      "1  Client Service Staff          Resigned     Cacilia Aimee 2006-05-31   \n",
      "2  Client Service Staff          Resigned     Orsa Margeaux 2010-01-31   \n",
      "3  Client Service Staff          Resigned       Tallia Eyde 2010-05-31   \n",
      "4  Client Service Staff          Resigned     Vonni Bethena 2011-01-31   \n",
      "\n",
      "  Current Status Termination Date  \n",
      "0       Resigned       2018-02-28  \n",
      "1       Resigned       2018-04-30  \n",
      "2       Resigned       2017-06-30  \n",
      "3       Resigned       2017-09-30  \n",
      "4       Resigned       2017-10-31  \n",
      "(145, 19)\n"
     ]
    }
   ],
   "source": [
    "hr_termination3 = hr_termination3.loc[hr_termination3['Current Status']=='Resigned']\n",
    "print(hr_termination3.head())\n",
    "print(hr_termination3.shape)"
   ]
  },
  {
   "cell_type": "code",
   "execution_count": 10,
   "metadata": {},
   "outputs": [
    {
     "name": "stdout",
     "output_type": "stream",
     "text": [
      "   Employee No   Employee Name_x  YEAR of Birth Gender Leaving Reason  \\\n",
      "0            8    Kakalina Lorry           1980      F  Career Growth   \n",
      "1           11        Aili Nessy           1982      M  Career Growth   \n",
      "2           15      Peria Maryjo           1979      M  Career Growth   \n",
      "3           36  Charlotta Marena           1979      F       Personal   \n",
      "4           42  Kimberli Shandra           1986      M  Career Growth   \n",
      "\n",
      "  Previous Employer Last Update Date  Latest  Available Rating Emp Ref.  \\\n",
      "0            cynoid       2017-02-17                       3.0      NaN   \n",
      "1               NaN       2017-01-12                       2.0      NaN   \n",
      "2            flimbo       2016-09-15                       3.0      NaN   \n",
      "3            avindu       2016-09-28                       3.0      NaN   \n",
      "4               NaN       2016-07-14                       3.0      NaN   \n",
      "\n",
      "  Profit Center   Employee Name_y Employee Position Employee Location  \\\n",
      "0        PC - 3    Kakalina Lorry           Level 4        Location 1   \n",
      "1        PC - 3        Aili Nessy           Level 4        Location 1   \n",
      "2        PC - 3      Peria Maryjo           Level 4        Location 2   \n",
      "3        PC - 6  Charlotta Marena           Level 4        Location 7   \n",
      "4        PC - 3  Kimberli Shandra           Level 6        Location 1   \n",
      "\n",
      "           People Group      Employee Category  Supervisor name  Join Date  \\\n",
      "0  Client Service Staff  Serving Notice Period      Tallia Eyde 2004-07-31   \n",
      "1  Client Service Staff  Serving Notice Period    Cacilia Aimee 2004-11-30   \n",
      "2  Client Service Staff  Serving Notice Period      Barbee Joey 2005-02-28   \n",
      "3  Client Service Staff  Serving Notice Period   Daryl Natalina 2009-01-31   \n",
      "4  Client Service Staff  Serving Notice Period  Marina Garnette 2009-07-31   \n",
      "\n",
      "  Current Status     Termination Date  \n",
      "0       Resigned  2017-01-31 00:00:00  \n",
      "1       Resigned  2017-01-31 00:00:00  \n",
      "2       Resigned  2016-08-31 00:00:00  \n",
      "3       Resigned  2016-08-31 00:00:00  \n",
      "4       Resigned  2016-07-31 00:00:00  \n",
      "(285, 19)\n"
     ]
    }
   ],
   "source": [
    "hr_termination4 = hr_termination2.append(hr_termination3,ignore_index=True)\n",
    "print(hr_termination4.head())\n",
    "print(hr_termination4.shape)"
   ]
  },
  {
   "cell_type": "code",
   "execution_count": 11,
   "metadata": {},
   "outputs": [
    {
     "data": {
      "image/png": "[encoded data removed]",
      "text/plain": [
       "<Figure size 432x288 with 1 Axes>"
      ]
     },
     "metadata": {
      "needs_background": "light"
     },
     "output_type": "display_data"
    }
   ],
   "source": [
    "hr_termination4['Gender'].value_counts().plot(kind='bar',color='#a98d19',rot=0);"
   ]
  },
  {
   "cell_type": "code",
   "execution_count": 12,
   "metadata": {},
   "outputs": [
    {
     "data": {
      "image/png": "[encoded data removed]",
      "text/plain": [
       "<Figure size 432x288 with 1 Axes>"
      ]
     },
     "metadata": {
      "needs_background": "light"
     },
     "output_type": "display_data"
    }
   ],
   "source": [
    "hr_termination4['People Group'].value_counts().plot(kind='bar',color='#a98d19');"
   ]
  },
  {
   "cell_type": "code",
   "execution_count": 13,
   "metadata": {},
   "outputs": [
    {
     "data": {
      "image/png": "[encoded data removed]",
      "text/plain": [
       "<Figure size 432x288 with 1 Axes>"
      ]
     },
     "metadata": {
      "needs_background": "light"
     },
     "output_type": "display_data"
    }
   ],
   "source": [
    "hr_termination4['Supervisor name'].value_counts()[:10].plot(kind='bar',color='#a98d19');"
   ]
  },
  {
   "cell_type": "code",
   "execution_count": 14,
   "metadata": {},
   "outputs": [
    {
     "data": {
      "image/png": "[encoded data removed]",
      "text/plain": [
       "<Figure size 432x288 with 1 Axes>"
      ]
     },
     "metadata": {
      "needs_background": "light"
     },
     "output_type": "display_data"
    }
   ],
   "source": [
    "hr_termination4['Employee Position'].value_counts().plot(kind='bar',color='#a98d19');"
   ]
  },
  {
   "cell_type": "code",
   "execution_count": 15,
   "metadata": {},
   "outputs": [
    {
     "data": {
      "image/png": "[encoded data removed]",
      "text/plain": [
       "<Figure size 432x288 with 1 Axes>"
      ]
     },
     "metadata": {
      "needs_background": "light"
     },
     "output_type": "display_data"
    }
   ],
   "source": [
    "hr_termination4['Employee Category'].value_counts().plot(kind='bar',color='#a98d19');"
   ]
  },
  {
   "cell_type": "code",
   "execution_count": 16,
   "metadata": {},
   "outputs": [
    {
     "data": {
      "image/png": "[encoded data removed]",
      "text/plain": [
       "<Figure size 432x288 with 1 Axes>"
      ]
     },
     "metadata": {
      "needs_background": "light"
     },
     "output_type": "display_data"
    }
   ],
   "source": [
    "hr_termination4['Employee Location'].value_counts().plot(kind='bar',color='#a98d19');"
   ]
  },
  {
   "cell_type": "code",
   "execution_count": 17,
   "metadata": {},
   "outputs": [
    {
     "data": {
      "image/png": "[encoded data removed]",
      "text/plain": [
       "<Figure size 432x288 with 1 Axes>"
      ]
     },
     "metadata": {
      "needs_background": "light"
     },
     "output_type": "display_data"
    }
   ],
   "source": [
    "hr_termination4['Profit Center'].value_counts().plot(kind='bar',color='#a98d19');"
   ]
  },
  {
   "cell_type": "code",
   "execution_count": 18,
   "metadata": {},
   "outputs": [
    {
     "data": {
      "image/png": "[encoded data removed]",
      "text/plain": [
       "<Figure size 432x288 with 1 Axes>"
      ]
     },
     "metadata": {
      "needs_background": "light"
     },
     "output_type": "display_data"
    }
   ],
   "source": [
    "hr_termination4['Leaving Reason'].value_counts().plot(kind='bar',color='#a98d19');"
   ]
  },
  {
   "cell_type": "code",
   "execution_count": 19,
   "metadata": {},
   "outputs": [
    {
     "data": {
      "image/png": "[encoded data removed]",
      "text/plain": [
       "<Figure size 432x288 with 1 Axes>"
      ]
     },
     "metadata": {
      "needs_background": "light"
     },
     "output_type": "display_data"
    }
   ],
   "source": [
    "hr_termination4['Latest  Available Rating'].fillna('Not Available',inplace=True)\n",
    "hr_termination4['Latest  Available Rating'].value_counts().plot(kind='bar',color='#a98d19');"
   ]
  },
  {
   "cell_type": "code",
   "execution_count": 20,
   "metadata": {},
   "outputs": [],
   "source": [
    "hr_termination4[['Join Date','Termination Date']] = hr_termination4[['Join Date','Termination Date']].apply(pd.to_datetime)\n",
    "hr_termination4[['Join Date','Termination Date']] = hr_termination4[['Join Date','Termination Date']].apply(lambda t : t.dt.floor('d'))\n",
    "\n",
    "hr_termination4['Tenure'] = hr_termination4['Termination Date'] - hr_termination4['Join Date']\n",
    "hr_termination4['Tenure'] = hr_termination4['Tenure'].dt.days"
   ]
  },
  {
   "cell_type": "code",
   "execution_count": 21,
   "metadata": {},
   "outputs": [
    {
     "data": {
      "text/plain": [
       "2.4185820716174"
      ]
     },
     "execution_count": 21,
     "metadata": {},
     "output_type": "execute_result"
    }
   ],
   "source": [
    "hr_termination4['Tenure'].mean()/365"
   ]
  },
  {
   "cell_type": "code",
   "execution_count": 22,
   "metadata": {},
   "outputs": [
    {
     "name": "stdout",
     "output_type": "stream",
     "text": [
      "Average tenure of employment is : 2.42 years\n"
     ]
    }
   ],
   "source": [
    "print('Average tenure of employment is : {:.2f} years'.format(hr_termination4['Tenure'].mean()/365))"
   ]
  },
  {
   "cell_type": "code",
   "execution_count": 23,
   "metadata": {},
   "outputs": [
    {
     "data": {
      "text/plain": [
       "IntervalIndex([(0.0, 915.0], (915.0, 1825.0], (1825.0, 2740.0], (2740.0, 3650.0], (3650.0, inf]],\n",
       "              closed='right',\n",
       "              dtype='interval[float64]')"
      ]
     },
     "execution_count": 23,
     "metadata": {},
     "output_type": "execute_result"
    }
   ],
   "source": [
    "bins = pd.IntervalIndex.from_tuples([(0,915),(915,1825),(1825,2740),(2740,3650),(3650,np.inf)])\n",
    "bins"
   ]
  },
  {
   "cell_type": "code",
   "execution_count": 24,
   "metadata": {},
   "outputs": [],
   "source": [
    "hr_termination4['Tenure Buckets'] = pd.cut(hr_termination4['Tenure'],bins=bins,\n",
    "                                          labels=['too short','short tenure','medium tenure','long tenure','tenured employee'])"
   ]
  },
  {
   "cell_type": "code",
   "execution_count": 25,
   "metadata": {},
   "outputs": [
    {
     "data": {
      "image/png": "[encoded data removed]",
      "text/plain": [
       "<Figure size 432x288 with 1 Axes>"
      ]
     },
     "metadata": {
      "needs_background": "light"
     },
     "output_type": "display_data"
    }
   ],
   "source": [
    "hr_termination4['Tenure Buckets'].value_counts().plot(kind='bar',color='#a98d19');"
   ]
  },
  {
   "cell_type": "code",
   "execution_count": 26,
   "metadata": {},
   "outputs": [
    {
     "data": {
      "image/png": "[encoded data removed]",
      "text/plain": [
       "<Figure size 432x288 with 1 Axes>"
      ]
     },
     "metadata": {
      "needs_background": "light"
     },
     "output_type": "display_data"
    }
   ],
   "source": [
    "hr_termination4['Previous Employer'].fillna('Fresher',inplace=True)\n",
    "hr_termination4['Previous Employer'].value_counts()[0:10].plot(kind='bar',color='#a98d19');"
   ]
  },
  {
   "cell_type": "code",
   "execution_count": 27,
   "metadata": {},
   "outputs": [],
   "source": [
    "hr_termination4.to_csv('E:/DataSkills 2021/Imarticus DSP/Capstone Project/HR Analytics/hr_termination.csv',index=False)"
   ]
  },
  {
   "cell_type": "code",
   "execution_count": null,
   "metadata": {},
   "outputs": [],
   "source": []
  }
 ],
 "metadata": {
  "kernelspec": {
   "display_name": "Python 3",
   "language": "python",
   "name": "python3"
  },
  "language_info": {
   "codemirror_mode": {
    "name": "ipython",
    "version": 3
   },
   "file_extension": ".py",
   "mimetype": "text/x-python",
   "name": "python",
   "nbconvert_exporter": "python",
   "pygments_lexer": "ipython3",
   "version": "3.8.5"
  }
 },
 "nbformat": 4,
 "nbformat_minor": 4
}
